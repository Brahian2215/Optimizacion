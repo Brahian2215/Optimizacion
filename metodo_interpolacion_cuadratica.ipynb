# Método de Interpolación Cuadrática
import numpy as np
import pandas as pd
import matplotlib.pyplot as plt

# Método general
def quadratic_interpolation(f, x0, x1, x2, tol=1e-5, max_iter=100):
    history = []
    prev_x3 = None

    for i in range(max_iter):
        f0, f1, f2 = f(x0), f(x1), f(x2)
        numerator = f0 * (x1**2 - x2**2) + f1 * (x2**2 - x0**2) + f2 * (x0**2 - x1**2)
        denominator = 2 * (f0 * (x1 - x2) + f1 * (x2 - x0) + f2 * (x0 - x1))
        if denominator == 0:
            break
        x3 = numerator / denominator
        f3 = f(x3)

        # Medidas adicionales
        delta_f = abs(f3 - f1)
        intervalo = abs(x2 - x0)
        mejor_idx = np.argmax([f0, f1, f2, f3])
        mejores_x = [x0, x1, x2, x3]
        mejores_f = [f0, f1, f2, f3]
        mejor_x = mejores_x[mejor_idx]
        mejor_f = mejores_f[mejor_idx]

        # Guardar en historial
        history.append([
            i+1, x0, f0, x1, f1, x2, f2, x3, f3,
            np.nan if prev_x3 is None else abs(x3 - prev_x3),
            delta_f, intervalo, mejor_x, mejor_f
        ])

        # Criterio de parada
        if prev_x3 is not None and abs(x3 - prev_x3) < tol:
            break
        prev_x3 = x3

        # Reemplazo según criterio
        if f3 > f1:
            if x3 > x1:
                x0 = x1
                x1 = x3
            else:
                x2 = x1
                x1 = x3
        else:
            if x3 > x1:
                x2 = x3
            else:
                x0 = x3

    columns = [
        "Iteración", "x0", "f(x0)", "x1", "f(x1)", "x2", "f(x2)", "x3", "f(x3)",
        "Error |x3-xprev|", "Δf = |f(x3)-f(x1)|", "Intervalo (x2-x0)", "Mejor x", "Mejor f"
    ]
    df = pd.DataFrame(history, columns=columns)
    return df

# Ejemplo: f(x) = 2*sin(x) - x^2/10
def f(x):
    return 2 * np.sin(x) - (x**2)/10

# Ejecutar el método
resultados = quadratic_interpolation(f, 0, 1, 4, tol=1e-5)

# Formato personalizado para enteros y decimales (5 decimales)
def format_number(val):
    if pd.isna(val):
        return ""
    if abs(val - int(val)) < 1e-12:
        return f"{int(val)}"
    else:
        return f"{val:.5f}"

resultados_fmt = resultados.applymap(format_number)

# Style tabla
from tabulate import tabulate
print(tabulate(resultados_fmt, headers='keys', tablefmt='fancy_grid'))

# Mejor aproximación
best = resultados.iloc[-1]
print(f"\nMáximo aproximado: x ≈ {best['Mejor x']}, f(x) ≈ {best['Mejor f']}")

# Graficar función y puntos evaluados
x_vals = np.linspace(-1, 5, 400)
y_vals = f(x_vals)

plt.figure(figsize=(16,5))
plt.subplot(1,3,1)
plt.plot(x_vals, y_vals, label='f(x)', color='blue')
plt.scatter(resultados["x0"].astype(float), resultados["f(x0)"].astype(float), color='red', label='x0')
plt.scatter(resultados["x1"].astype(float), resultados["f(x1)"].astype(float), color='green', label='x1')
plt.scatter(resultados["x2"].astype(float), resultados["f(x2)"].astype(float), color='purple', label='x2')
plt.scatter(resultados["x3"].astype(float), resultados["f(x3)"].astype(float), color='black', marker='x', s=80, label='x3 aproximado')
plt.title("Función y aproximaciones")
plt.legend()
plt.grid(True)

# Graficar error escala log
plt.subplot(1,3,2)
plt.plot(resultados["Iteración"].astype(float), resultados["Error |x3-xprev|"].astype(float), marker='o', linestyle='--', color='red')
plt.yscale("log")
plt.xlabel("Iteración")
plt.ylabel("Error |x3-xprev|")
plt.title("Convergencia del error (log)")
plt.grid(True)

# Graficar error escala lineal
plt.subplot(1,3,3)
plt.plot(resultados["Iteración"].astype(float), resultados["Error |x3-xprev|"].astype(float), marker='o', linestyle='--', color='orange')
plt.xlabel("Iteración")
plt.ylabel("Error |x3-xprev|")
plt.title("Convergencia del error (lineal)")
plt.grid(True)

plt.tight_layout()
plt.show()
