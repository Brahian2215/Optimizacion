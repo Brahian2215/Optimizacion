import pandas as pd
import numpy as np
import matplotlib.pyplot as plt

def razon_dorada(f, xl, xu, tol=1e-5, max_iter=100, maximize=True):
    """
    Método de la razón dorada (Golden Section Search)
    Implementado con tabla detallada y gráficas.
    """

    phi = (np.sqrt(5) - 1) / 2  # ≈ 0.618

    xl0, xu0 = xl, xu  # guardar intervalo inicial

    rows = []
    best_xs, best_fs = [], []

    for i in range(1, max_iter + 1):
        # Calcular puntos interiores
        d = phi * (xu - xl)
        x1 = xl + d
        x2 = xu - d
        fx1 = f(x1)
        fx2 = f(x2)

        # Guardar valores previos antes de actualizar
        xl_before, xu_before = xl, xu

        # Decisiones de actualización
        if maximize:
            if fx2 > fx1:
                decision = "f(x2) > f(x1) → xu = x1"
                xu = x1
            elif fx2 < fx1:
                decision = "f(x2) < f(x1) → xl = x2"
                xl = x2
            else:
                decision = "f(x2) = f(x1) → reducir intervalo"
                xl, xu = x2, x1
        else:  # minimizar
            if fx2 < fx1:
                decision = "f(x2) < f(x1) → xu = x1"
                xu = x1
            elif fx2 > fx1:
                decision = "f(x2) > f(x1) → xl = x2"
                xl = x2
            else:
                decision = "f(x2) = f(x1) → reducir intervalo"
                xl, xu = x2, x1

        # Mejor valor en esta iteración
        if maximize:
            if fx1 >= fx2:
                best_x, best_f = x1, fx1
            else:
                best_x, best_f = x2, fx2
        else:
            if fx1 <= fx2:
                best_x, best_f = x1, fx1
            else:
                best_x, best_f = x2, fx2

        # Error como ancho del intervalo
        error = xu - xl

        # Guardar en la tabla
        rows.append({
            "i": i,
            "xl_before": xl_before,
            "xu_before": xu_before,
            "d": d,
            "x1": x1,
            "x2": x2,
            "f(x1)": fx1,
            "f(x2)": fx2,
            "decision": decision,
            "xl_after": xl,
            "xu_after": xu,
            "best_x": best_x,
            "f(best_x)": best_f,
            "error": error
        })

        best_xs.append(best_x)
        best_fs.append(best_f)

        # Paro
        if error < tol:
            break

    # Convertir a DataFrame
    df = pd.DataFrame(rows)

    # Formato bonito
    def format_number(x):
        if isinstance(x, (int, float, np.floating)):
            return f"{x:.5f}".rstrip("0").rstrip(".")
        return x
    df_display = df.copy().applymap(format_number)
    display(df_display)

    # ======================
    # Gráficas
    # ======================
    margin = (xu0 - xl0) * 0.1
    x_vals = np.linspace(xl0 - margin, xu0 + margin, 500)
    y_vals = f(x_vals)

    # Función con aproximaciones
    plt.figure(figsize=(9, 5))
    plt.plot(x_vals, y_vals, label="f(x)")
    plt.scatter(best_xs, best_fs, color="red", zorder=5, label="Aproximaciones")
    plt.title("Método de la Razón Dorada - Función y Aproximaciones")
    plt.xlabel("x")
    plt.ylabel("f(x)")
    plt.legend()
    plt.grid(True)
    plt.show()

    # Error lineal
    plt.figure(figsize=(9, 4.5))
    plt.plot(df["i"], df["error"], marker="o", linestyle="--", color="blue")
    plt.title("Error (intervalo) vs Iteraciones (lineal)")
    plt.xlabel("Iteración")
    plt.ylabel("Error = xu_after - xl_after")
    plt.grid(True)
    plt.show()

    # Error logarítmico
    plt.figure(figsize=(9, 4.5))
    plt.plot(df["i"], df["error"], marker="o", linestyle="--", color="green")
    plt.yscale("log")
    plt.title("Error (intervalo) vs Iteraciones (log)")
    plt.xlabel("Iteración")
    plt.ylabel("Error (log)")
    plt.grid(True, which="both", ls="--")
    plt.show()

    return df

# ===========================
# EJEMPLO 
# f(x) = 2*sin(x) - x^2/10 , [0,4]
# ===========================
def f_example(x):
    return 2*np.sin(x) - x**2 / 10

tabla = razon_dorada(f_example, xl=0.0, xu=4.0, tol=0.01, maximize=True)
