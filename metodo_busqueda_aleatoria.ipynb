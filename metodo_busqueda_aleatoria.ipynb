# ============================
# MÉTODO DE BÚSQUEDA ALEATORIA 
# ============================

import numpy as np
import pandas as pd
import matplotlib.pyplot as plt
from tabulate import tabulate

# Definir función objetivo
def f(x, y):
    return y - x - 2*x**2 - 2*x*y - y**2

def busqueda_aleatoria_libro(x_bounds, y_bounds, max_iter=10000, step=1000, seed=0):
    """
    Búsqueda aleatoria fiel al libro: itera N veces y reporta cada 'step'.

    Parámetros:
        x_bounds : (xmin, xmax)
        y_bounds : (ymin, ymax)
        max_iter : número total de iteraciones
        step     : cada cuántas iteraciones guardar resultados
        seed     : semilla aleatoria (para reproducibilidad)

    Retorna:
        df : DataFrame con resultados (iteración, x, y, f(x,y))
    """
    np.random.seed(seed)

    best_val = -np.inf
    best_x, best_y = None, None
    history = []

    for i in range(1, max_iter+1):
        # Generar punto aleatorio
        x = np.random.uniform(*x_bounds)
        y = np.random.uniform(*y_bounds)
        val = f(x, y)

        # Actualizar si mejora
        if val > best_val:
            best_val = val
            best_x, best_y = x, y

        # Guardar resultados cada "step"
        if i % step == 0:
            history.append([i, best_x, best_y, best_val])

    df = pd.DataFrame(history, columns=["Iteración", "x", "y", "f(x,y)"])
    return df, (best_x, best_y, best_val)

# ============================
# EJEMPLO
# ============================

x_bounds = (-2, 2)
y_bounds = (1, 3)

df, (x_opt, y_opt, f_opt) = busqueda_aleatoria_libro(x_bounds, y_bounds, max_iter=10000, step=1000, seed=0)

# Style tabla
def format_number(val):
    if isinstance(val, (int, float, np.floating)):
        return f"{val:.6f}"
    return str(val)

df_fmt = df.applymap(format_number)

print(tabulate(df_fmt, headers="keys", tablefmt="fancy_grid"))

print("\nMáximo encontrado:")
print(f"f({x_opt:.6f}, {y_opt:.6f}) = {f_opt:.6f}")

# ============================
# GRÁFICAS
# ============================

# Malla para la función
X = np.linspace(x_bounds[0], x_bounds[1], 200)
Y = np.linspace(y_bounds[0], y_bounds[1], 200)
X, Y = np.meshgrid(X, Y)
Z = f(X, Y)

plt.figure(figsize=(14,5))

# Función y máximo
plt.subplot(1,2,1)
plt.contourf(X, Y, Z, levels=50, cmap="viridis")
plt.colorbar(label="f(x,y)")
plt.scatter(df["x"].astype(float), df["y"].astype(float), c="red", s=30, label="Mejoras sucesivas")
plt.scatter(x_opt, y_opt, c="white", edgecolors="black", s=100, label="Máximo final")
plt.title("Función y búsqueda aleatoria")
plt.xlabel("x"); plt.ylabel("y")
plt.legend(); plt.grid(True)

# Evolución del valor máximo
plt.subplot(1,2,2)
plt.plot(df["Iteración"].astype(int), df["f(x,y)"].astype(float), marker="o", linestyle="--")
plt.title("Evolución de f_best")
plt.xlabel("Iteración"); plt.ylabel("f(x,y) máximo")
plt.grid(True)

plt.tight_layout()
plt.show()
