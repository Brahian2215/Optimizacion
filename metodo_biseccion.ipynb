import pandas as pd
import matplotlib.pyplot as plt
import numpy as np

def biseccion(f, xl, xu, tolerancia=1e-5, max_iter=100):
    rows = []

    for i in range(1, max_iter+1):   # empieza en 1
        xr = (xl + xu) / 2.0
        fxu = f(xu)
        fxl = f(xl)
        fxr = f(xr)
        prod = fxl * fxr

        error = (xu - xl) / (2**i)  # fórmula

        rows.append({
            "i": i,
            "xu": xu,
            "xl": xl,
            "xr": xr,
            "f(xu)": fxu,
            "f(xl)": fxl,
            "f(xr)": fxr,
            "f(xl)*f(xr)": prod,
            "Error": error
        })

        if error < tolerancia:
            break

        if prod < 0:
            xu = xr
        elif prod > 0:
            xl = xr
        else:
            break

    # Convertir a DataFrame
    df = pd.DataFrame(rows)

    # ---- Formato tabla ----
    def format_number(x):
        if isinstance(x, (int, float)):
            if abs(x - round(x)) < 1e-12:
                return f"{int(round(x))}"
            else:
                return f"{x:.5f}".rstrip("0").rstrip(".")
        return x

    df = df.applymap(format_number)

    # ---- Mostrar tabla ----
    display(df)

    # ---- Gráfica de la función ----
    x_vals = np.linspace(xl-5, xu+5, 400)   # intervalo extendido para ver mejor
    y_vals = f(x_vals)

    plt.figure(figsize=(8,5))
    plt.plot(x_vals, y_vals, label="f(x)")
    plt.axhline(0, color="black", linewidth=0.8)
    plt.scatter(df["xr"].astype(float), df["f(xr)"].astype(float),
                color="red", s=40, label="Aproximaciones (xr)")
    plt.title("Comportamiento de la función")
    plt.xlabel("x")
    plt.ylabel("f(x)")
    plt.legend()
    plt.grid(True)
    plt.show()

    # ---- Gráfica del error (lineal) ----
    plt.figure(figsize=(8,5))
    plt.plot(df["i"].astype(int), df["Error"].astype(float),
             marker="o", linestyle="--", color="blue")
    plt.title("Error vs Iteraciones (escala lineal)")
    plt.xlabel("Iteración")
    plt.ylabel("Error")
    plt.grid(True)
    plt.show()

    # ---- Gráfica del error (logarítmica) ----
    plt.figure(figsize=(8,5))
    plt.plot(df["i"].astype(int), df["Error"].astype(float),
             marker="o", linestyle="--", color="green")
    plt.yscale("log")
    plt.title("Error vs Iteraciones (escala log)")
    plt.xlabel("Iteración")
    plt.ylabel("Error (log)")
    plt.grid(True, which="both", ls="--")
    plt.show()

    return df


# ========================
# EJEMPLO DE USO
# ========================
def f(x):
    return 3*x**2 - 120*x + 100

tabla = biseccion(f, xl=-10, xu=20, tolerancia=1e-5)
