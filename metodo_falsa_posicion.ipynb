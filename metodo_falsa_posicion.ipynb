import pandas as pd
import matplotlib.pyplot as plt
import numpy as np

def falsa_posicion(f, xl, xu, tolerancia=1e-5, max_iter=100):
    rows = []
    xr_old = xl  # inicial para calcular error

    for i in range(1, max_iter+1):
        fxl = f(xl)
        fxu = f(xu)

        # Fórmula de la falsa posición
        xr = xu - (fxu * (xl - xu)) / (fxl - fxu)
        fxr = f(xr)

        # Calcular error relativo
        if i == 1:
            error = None
        else:
            error = abs((xr - xr_old) / xr)

        rows.append({
            "i": i,
            "xl": xl,
            "xu": xu,
            "xr": xr,
            "f(xl)": fxl,
            "f(xu)": fxu,
            "f(xr)": fxr,
            "Error": error
        })

        # Verificación de parada
        if error is not None and error < tolerancia:
            break

        # Actualización de límites
        if fxl * fxr < 0:
            xu = xr
        elif fxr * fxu < 0:
            xl = xr
        else:
            break  # raíz exacta encontrada

        xr_old = xr

    # Convertir a DataFrame
    df = pd.DataFrame(rows)

    # ---- Formato tabla ----
    def format_number(x):
        if isinstance(x, (int, float, np.floating)):
            if x is None or np.isnan(x):
                return ""
            if abs(x - round(x)) < 1e-12:
                return f"{int(round(x))}"
            else:
                return f"{x:.5f}".rstrip("0").rstrip(".")
        return x

    df = df.applymap(format_number)

    # ---- Mostrar tabla ----
    display(df)

    # ---- Gráfica de la función ----
    x_vals = np.linspace(xl-5, xu+5, 400)
    y_vals = f(x_vals)

    plt.figure(figsize=(8,5))
    plt.plot(x_vals, y_vals, label="f(x)")
    plt.axhline(0, color="black", linewidth=0.8)
    plt.scatter(pd.to_numeric(df["xr"], errors="coerce"),
                pd.to_numeric(df["f(xr)"], errors="coerce"),
                color="red", s=40, label="Aproximaciones (xr)")
    plt.title("Método de Falsa Posición - Aproximaciones")
    plt.xlabel("x")
    plt.ylabel("f(x)")
    plt.legend()
    plt.grid(True)
    plt.show()

    # ---- Gráfica del error (lineal) ----
    if df["Error"].astype(str).str.len().max() > 0:
        plt.figure(figsize=(8,5))
        plt.plot(pd.to_numeric(df["i"], errors="coerce"),
                 pd.to_numeric(df["Error"], errors="coerce"),
                 marker="o", linestyle="--", color="blue")
        plt.title("Error vs Iteraciones (escala lineal)")
        plt.xlabel("Iteración")
        plt.ylabel("Error")
        plt.grid(True)
        plt.show()

        # ---- Gráfica del error (logarítmica) ----
        plt.figure(figsize=(8,5))
        plt.plot(pd.to_numeric(df["i"], errors="coerce"),
                 pd.to_numeric(df["Error"], errors="coerce"),
                 marker="o", linestyle="--", color="green")
        plt.yscale("log")
        plt.title("Error vs Iteraciones (escala log)")
        plt.xlabel("Iteración")
        plt.ylabel("Error (log)")
        plt.grid(True, which="both", ls="--")
        plt.show()

    return df


# ========================
# EJEMPLO DE USO
# ========================
def f(x):
    return 3*x**2 - 120*x + 100

tabla_fp = falsa_posicion(f, xl=-10, xu=20, tolerancia=1e-5)
