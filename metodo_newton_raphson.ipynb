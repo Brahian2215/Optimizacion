# ============================
# MÉTODO DE NEWTON-RAPHSON (RAÍCES)
# ============================

import numpy as np
import pandas as pd
import matplotlib.pyplot as plt
import sympy as sp
from tabulate import tabulate

def newton_raphson(f_expr, x0, tol=1e-5, max_iter=100):
    """
    Método de Newton-Raphson para encontrar raíces de una función.

    Parámetros:
        f_expr : expresión de sympy, ej: 2*sp.sin(x) - x**2/10
        x0     : valor inicial
        tol    : tolerancia de error
        max_iter : máximo de iteraciones

    Retorna:
        df     : DataFrame con historial de iteraciones
    """

    x = sp.symbols('x')
    f = sp.lambdify(x, f_expr, 'numpy')
    f1 = sp.lambdify(x, sp.diff(f_expr, x), 'numpy')

    history = []
    xi = x0

    for i in range(max_iter):
        fxi = f(xi)
        f1xi = f1(xi)

        if f1xi == 0:  # evitar división por cero
            break

        x_next = xi - fxi/f1xi
        error = abs(x_next - xi)

        history.append([
            i, xi, fxi, f1xi, x_next, error
        ])

        if error < tol:
            break

        xi = x_next

    columns = ["Iteración", "x_i", "f(x_i)", "f'(x_i)", "x_{i+1}",
               "Error = |x_{i+1}-x_i|"]

    df = pd.DataFrame(history, columns=columns)
    return df


# ============================
# EJEMPLO
# f(x) = 2*sin(x) - x^2/10 , buscando raíz
# ============================

x = sp.symbols('x')
f_expr = 2*sp.sin(x) - x**2/10

# Ejecutar método con x0 = 2
df = newton_raphson(f_expr, x0=2, tol=1e-5)

# Formatear números
def format_number(val):
    if isinstance(val, (int, float, np.floating)):
        if abs(val - int(val)) < 1e-12:
            return str(int(val))
        else:
            return f"{val:.5f}"
    return str(val)

df_fmt = df.applymap(format_number)

# Style tabla
print(tabulate(df_fmt, headers='keys', tablefmt='fancy_grid'))

# ============================
# GRÁFICAS
# ============================
f = sp.lambdify(x, f_expr, 'numpy')

# Curva de la función
x_vals = np.linspace(-5, 5, 400)
y_vals = f(x_vals)

plt.figure(figsize=(16,5))

# Función y aproximaciones
plt.subplot(1,3,1)
plt.axhline(0, color="black", linewidth=1)
plt.plot(x_vals, y_vals, label="f(x)", color="blue")
plt.scatter(df["x_i"].astype(float), df["f(x_i)"].astype(float),
            color="red", label="Iteraciones")
plt.title("Función y aproximaciones")
plt.xlabel("x"); plt.ylabel("f(x)")
plt.legend(); plt.grid(True)

# Error en escala log
plt.subplot(1,3,2)
plt.plot(df["Iteración"].astype(float), df["Error = |x_{i+1}-x_i|"].astype(float),
         marker="o", linestyle="--", color="green")
plt.yscale("log")
plt.title("Convergencia del error (log)")
plt.xlabel("Iteración"); plt.ylabel("Error")
plt.grid(True)

# Error en escala lineal
plt.subplot(1,3,3)
plt.plot(df["Iteración"].astype(float), df["Error = |x_{i+1}-x_i|"].astype(float),
         marker="o", linestyle="--", color="orange")
plt.title("Convergencia del error (lineal)")
plt.xlabel("Iteración"); plt.ylabel("Error")
plt.grid(True)

plt.tight_layout()
plt.show()
